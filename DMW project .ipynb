{
 "cells": [
  {
   "cell_type": "code",
   "execution_count": 4,
   "id": "e57f1e58",
   "metadata": {},
   "outputs": [
    {
     "name": "stdout",
     "output_type": "stream",
     "text": [
      "!! Invisibility is no more a Dream !!\n"
     ]
    }
   ],
   "source": [
    "# Importing Necessary Libraries #\n",
    "import numpy as np\n",
    "import cv2\n",
    "import time\n",
    "\n",
    "\n",
    "print(\"!! Invisibility is no more a Dream !!\")\n",
    "\n",
    "# Capturing Webcam Feed\n",
    "cap = cv2.VideoCapture(0)\n",
    "\n",
    "time.sleep(3)\n",
    "\n",
    "count = 0\n",
    "\n",
    "background = 0\n",
    "\n",
    "# Capturing Static Background Frame\n",
    "\n",
    "for i in range(60):\n",
    "\n",
    "    ret, background = cap.read()\n",
    "\n",
    "\n",
    "# Flip the Image\n",
    "\n",
    "background = np.flip(background, axis=1)\n",
    "\n",
    "while(cap.isOpened()):\n",
    "    \n",
    "    ret, img = cap.read()\n",
    "\n",
    "    if not ret:\n",
    "        break\n",
    "\n",
    "    count+=1\n",
    "\n",
    "    img = np.flip(img, axis=1)\n",
    "    \n",
    "#Converting from BGR to HSV\n",
    "    hsv = cv2.cvtColor(img, cv2.COLOR_BGR2HSV)\n",
    "\n",
    "    lower_red = np.array([0, 120, 70])\n",
    "    upper_red = np.array([10, 255, 255])\n",
    "    mask1 = cv2.inRange(hsv, lower_red, upper_red)\n",
    "\n",
    "    lower_red = np.array([170, 120, 70])\n",
    "    upper_red = np.array([180, 255, 255])\n",
    "    \n",
    "    #segmenting the cloak part\n",
    "    mask2 = cv2.inRange(hsv, lower_red, upper_red)\n",
    "    \n",
    "    mask1 = mask1 + mask2\n",
    "\n",
    "    mask1 = cv2.morphologyEx(mask1, cv2.MORPH_OPEN, np.ones((3, 3), np.uint8), iterations=2)\n",
    "    mask1 = cv2.morphologyEx(mask1, cv2.MORPH_DILATE, np.ones((3, 3), np.uint8), iterations=1)\n",
    "    #except the cloak\n",
    "    mask2 = cv2.bitwise_not(mask1)\n",
    "    \n",
    "    #segmentation of the color\n",
    "    res1 = cv2.bitwise_and(background, background, mask = mask1)\n",
    "    \n",
    "    #used to subsitute the cloak part\n",
    "    res2 = cv2.bitwise_and(img, img, mask = mask2)\n",
    "    final_output = cv2.addWeighted(res1, 1, res2, 1, 0)\n",
    "\n",
    "    cv2.imshow('Magical Clock !!', final_output)\n",
    "    k = cv2.waitKey(10)\n",
    "    if k == 27:\n",
    "        break\n",
    "\n",
    "cap.release()\n",
    "cv2.destroyAllWindows()"
   ]
  }
 ],
 "metadata": {
  "kernelspec": {
   "display_name": "Python 3 (ipykernel)",
   "language": "python",
   "name": "python3"
  },
  "language_info": {
   "codemirror_mode": {
    "name": "ipython",
    "version": 3
   },
   "file_extension": ".py",
   "mimetype": "text/x-python",
   "name": "python",
   "nbconvert_exporter": "python",
   "pygments_lexer": "ipython3",
   "version": "3.8.10"
  }
 },
 "nbformat": 4,
 "nbformat_minor": 5
}
